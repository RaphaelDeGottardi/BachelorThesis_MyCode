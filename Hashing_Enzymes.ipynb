{
 "cells": [
  {
   "cell_type": "code",
   "execution_count": 11,
   "metadata": {},
   "outputs": [],
   "source": [
    "import networkx as nx\n",
    "\n",
    "#Makes sure to be able to print many statements in one cell\n",
    "from IPython.core.interactiveshell import InteractiveShell\n",
    "InteractiveShell.ast_node_interactivity = 'all'"
   ]
  },
  {
   "cell_type": "code",
   "execution_count": 14,
   "metadata": {},
   "outputs": [
    {
     "name": "stdout",
     "output_type": "stream",
     "text": [
      "(0, 0, 0)\n",
      "(0, 0, 0.1)\n",
      "(0, 0, 0.2)\n",
      "(0, 0, 0.3)\n",
      "(0, 0.1, 0)\n",
      "(0, 0.1, 0.1)\n",
      "(0, 0.1, 0.2)\n",
      "(0, 0.1, 0.3)\n",
      "(0, 0.2, 0)\n",
      "(0, 0.2, 0.1)\n",
      "(0, 0.2, 0.2)\n",
      "(0, 0.2, 0.3)\n",
      "(0, 0.3, 0)\n",
      "(0, 0.3, 0.1)\n",
      "(0, 0.3, 0.2)\n",
      "(0, 0.3, 0.3)\n",
      "(0.1, 0, 0)\n",
      "(0.1, 0, 0.1)\n",
      "(0.1, 0, 0.2)\n",
      "(0.1, 0, 0.3)\n",
      "(0.1, 0.1, 0)\n",
      "(0.1, 0.1, 0.1)\n",
      "(0.1, 0.1, 0.2)\n",
      "(0.1, 0.1, 0.3)\n",
      "(0.1, 0.2, 0)\n",
      "(0.1, 0.2, 0.1)\n",
      "(0.1, 0.2, 0.2)\n",
      "(0.1, 0.2, 0.3)\n",
      "(0.1, 0.3, 0)\n",
      "(0.1, 0.3, 0.1)\n",
      "(0.1, 0.3, 0.2)\n",
      "(0.1, 0.3, 0.3)\n",
      "(0.2, 0, 0)\n",
      "(0.2, 0, 0.1)\n",
      "(0.2, 0, 0.2)\n",
      "(0.2, 0, 0.3)\n",
      "(0.2, 0.1, 0)\n",
      "(0.2, 0.1, 0.1)\n",
      "(0.2, 0.1, 0.2)\n",
      "(0.2, 0.1, 0.3)\n",
      "(0.2, 0.2, 0)\n",
      "(0.2, 0.2, 0.1)\n",
      "(0.2, 0.2, 0.2)\n",
      "(0.2, 0.2, 0.3)\n",
      "(0.2, 0.3, 0)\n",
      "(0.2, 0.3, 0.1)\n",
      "(0.2, 0.3, 0.2)\n",
      "(0.2, 0.3, 0.3)\n",
      "(0.3, 0, 0)\n",
      "(0.3, 0, 0.1)\n",
      "(0.3, 0, 0.2)\n",
      "(0.3, 0, 0.3)\n",
      "(0.3, 0.1, 0)\n",
      "(0.3, 0.1, 0.1)\n",
      "(0.3, 0.1, 0.2)\n",
      "(0.3, 0.1, 0.3)\n",
      "(0.3, 0.2, 0)\n",
      "(0.3, 0.2, 0.1)\n",
      "(0.3, 0.2, 0.2)\n",
      "(0.3, 0.2, 0.3)\n",
      "(0.3, 0.3, 0)\n",
      "(0.3, 0.3, 0.1)\n",
      "(0.3, 0.3, 0.2)\n",
      "(0.3, 0.3, 0.3)\n"
     ]
    }
   ],
   "source": [
    "\n",
    "import itertools\n",
    "for i in list(itertools.product([0,0.1,0.2,0.3], repeat=3)):\n",
    "    print(i)"
   ]
  }
 ],
 "metadata": {
  "interpreter": {
   "hash": "874729d9695bb3d460837e5700234e323fdb72e734c404ef4302095460f1d2e4"
  },
  "kernelspec": {
   "display_name": "Python 3.9.12 ('.venv': venv)",
   "language": "python",
   "name": "python3"
  },
  "language_info": {
   "codemirror_mode": {
    "name": "ipython",
    "version": 3
   },
   "file_extension": ".py",
   "mimetype": "text/x-python",
   "name": "python",
   "nbconvert_exporter": "python",
   "pygments_lexer": "ipython3",
   "version": "3.9.13"
  },
  "orig_nbformat": 4
 },
 "nbformat": 4,
 "nbformat_minor": 2
}
