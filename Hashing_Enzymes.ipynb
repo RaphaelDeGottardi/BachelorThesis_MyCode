{
 "cells": [
  {
   "cell_type": "code",
   "execution_count": 11,
   "metadata": {},
   "outputs": [],
   "source": [
    "import networkx as nx\n",
    "\n",
    "#Makes sure to be able to print many statements in one cell\n",
    "from IPython.core.interactiveshell import InteractiveShell\n",
    "InteractiveShell.ast_node_interactivity = 'all'"
   ]
  },
  {
   "cell_type": "code",
   "execution_count": 6,
   "metadata": {},
   "outputs": [
    {
     "name": "stdout",
     "output_type": "stream",
     "text": [
      "[1.0 0.0 0.0]\n"
     ]
    }
   ],
   "source": [
    "attr = '[1.0 0.0 0.0]'\n",
    "vector = []\n",
    "vector.append(attr)\n",
    "print(vector[0])"
   ]
  }
 ],
 "metadata": {
  "interpreter": {
   "hash": "874729d9695bb3d460837e5700234e323fdb72e734c404ef4302095460f1d2e4"
  },
  "kernelspec": {
   "display_name": "Python 3.9.12 ('.venv': venv)",
   "language": "python",
   "name": "python3"
  },
  "language_info": {
   "codemirror_mode": {
    "name": "ipython",
    "version": 3
   },
   "file_extension": ".py",
   "mimetype": "text/x-python",
   "name": "python",
   "nbconvert_exporter": "python",
   "pygments_lexer": "ipython3",
   "version": "3.9.12"
  },
  "orig_nbformat": 4
 },
 "nbformat": 4,
 "nbformat_minor": 2
}
