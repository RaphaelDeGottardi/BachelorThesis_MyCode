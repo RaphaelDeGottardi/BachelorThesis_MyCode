{
 "cells": [
  {
   "cell_type": "code",
   "execution_count": 11,
   "metadata": {},
   "outputs": [],
   "source": [
    "import networkx as nx\n",
    "\n",
    "#Makes sure to be able to print many statements in one cell\n",
    "from IPython.core.interactiveshell import InteractiveShell\n",
    "InteractiveShell.ast_node_interactivity = 'all'"
   ]
  },
  {
   "cell_type": "code",
   "execution_count": 12,
   "metadata": {},
   "outputs": [],
   "source": [
    "G = nx.Graph()\n",
    "G.add_edges_from([(1,2),(1,3),(1,4),(1,5)])  #also creates new nodes if they don't exist yet\n",
    "\n"
   ]
  },
  {
   "cell_type": "code",
   "execution_count": 13,
   "metadata": {},
   "outputs": [
    {
     "name": "stdout",
     "output_type": "stream",
     "text": [
      "{'1. hash': 'fuere', '2. hash': 'tfou'}\n"
     ]
    }
   ],
   "source": [
    "G.nodes[1]['1. hash']= \"fuere\"\n",
    "G.nodes[1]['2. hash']= \"tfou\"\n",
    "print(G.nodes[1])"
   ]
  },
  {
   "cell_type": "code",
   "execution_count": 6,
   "metadata": {},
   "outputs": [
    {
     "ename": "TypeError",
     "evalue": "the JSON object must be str, bytes or bytearray, not list",
     "output_type": "error",
     "traceback": [
      "\u001b[0;31m---------------------------------------------------------------------------\u001b[0m",
      "\u001b[0;31mTypeError\u001b[0m                                 Traceback (most recent call last)",
      "\u001b[1;32m/home/raphaeldegottardi/BachelorThesis/MyCode/Hashing_Enzymes.ipynb Cell 4'\u001b[0m in \u001b[0;36m<cell line: 2>\u001b[0;34m()\u001b[0m\n\u001b[1;32m      <a href='vscode-notebook-cell://wsl%2Bubuntu/home/raphaeldegottardi/BachelorThesis/MyCode/Hashing_Enzymes.ipynb#ch0000003vscode-remote?line=0'>1</a>\u001b[0m \u001b[39mimport\u001b[39;00m \u001b[39mjson\u001b[39;00m\n\u001b[0;32m----> <a href='vscode-notebook-cell://wsl%2Bubuntu/home/raphaeldegottardi/BachelorThesis/MyCode/Hashing_Enzymes.ipynb#ch0000003vscode-remote?line=1'>2</a>\u001b[0m a \u001b[39m=\u001b[39m json\u001b[39m.\u001b[39;49mloads([\u001b[39m'\u001b[39;49m\u001b[39m[1.0, 0.0, 0.0]\u001b[39;49m\u001b[39m'\u001b[39;49m, \u001b[39m'\u001b[39;49m\u001b[39m0f80ff95bbe1ad57\u001b[39;49m\u001b[39m'\u001b[39;49m, \u001b[39m'\u001b[39;49m\u001b[39m67f59b8cdc5aa298\u001b[39;49m\u001b[39m'\u001b[39;49m, \u001b[39m'\u001b[39;49m\u001b[39m0a10d44c52d3f3bc\u001b[39;49m\u001b[39m'\u001b[39;49m, \u001b[39m'\u001b[39;49m\u001b[39mdf48828685f9f0b0\u001b[39;49m\u001b[39m'\u001b[39;49m])\n\u001b[1;32m      <a href='vscode-notebook-cell://wsl%2Bubuntu/home/raphaeldegottardi/BachelorThesis/MyCode/Hashing_Enzymes.ipynb#ch0000003vscode-remote?line=2'>3</a>\u001b[0m \u001b[39mprint\u001b[39m(a)\n",
      "File \u001b[0;32m/usr/lib/python3.9/json/__init__.py:339\u001b[0m, in \u001b[0;36mloads\u001b[0;34m(s, cls, object_hook, parse_float, parse_int, parse_constant, object_pairs_hook, **kw)\u001b[0m\n\u001b[1;32m    <a href='file:///usr/lib/python3.9/json/__init__.py?line=336'>337</a>\u001b[0m \u001b[39melse\u001b[39;00m:\n\u001b[1;32m    <a href='file:///usr/lib/python3.9/json/__init__.py?line=337'>338</a>\u001b[0m     \u001b[39mif\u001b[39;00m \u001b[39mnot\u001b[39;00m \u001b[39misinstance\u001b[39m(s, (\u001b[39mbytes\u001b[39m, \u001b[39mbytearray\u001b[39m)):\n\u001b[0;32m--> <a href='file:///usr/lib/python3.9/json/__init__.py?line=338'>339</a>\u001b[0m         \u001b[39mraise\u001b[39;00m \u001b[39mTypeError\u001b[39;00m(\u001b[39mf\u001b[39m\u001b[39m'\u001b[39m\u001b[39mthe JSON object must be str, bytes or bytearray, \u001b[39m\u001b[39m'\u001b[39m\n\u001b[1;32m    <a href='file:///usr/lib/python3.9/json/__init__.py?line=339'>340</a>\u001b[0m                         \u001b[39mf\u001b[39m\u001b[39m'\u001b[39m\u001b[39mnot \u001b[39m\u001b[39m{\u001b[39;00ms\u001b[39m.\u001b[39m\u001b[39m__class__\u001b[39m\u001b[39m.\u001b[39m\u001b[39m__name__\u001b[39m\u001b[39m}\u001b[39;00m\u001b[39m'\u001b[39m)\n\u001b[1;32m    <a href='file:///usr/lib/python3.9/json/__init__.py?line=340'>341</a>\u001b[0m     s \u001b[39m=\u001b[39m s\u001b[39m.\u001b[39mdecode(detect_encoding(s), \u001b[39m'\u001b[39m\u001b[39msurrogatepass\u001b[39m\u001b[39m'\u001b[39m)\n\u001b[1;32m    <a href='file:///usr/lib/python3.9/json/__init__.py?line=342'>343</a>\u001b[0m \u001b[39mif\u001b[39;00m (\u001b[39mcls\u001b[39m \u001b[39mis\u001b[39;00m \u001b[39mNone\u001b[39;00m \u001b[39mand\u001b[39;00m object_hook \u001b[39mis\u001b[39;00m \u001b[39mNone\u001b[39;00m \u001b[39mand\u001b[39;00m\n\u001b[1;32m    <a href='file:///usr/lib/python3.9/json/__init__.py?line=343'>344</a>\u001b[0m         parse_int \u001b[39mis\u001b[39;00m \u001b[39mNone\u001b[39;00m \u001b[39mand\u001b[39;00m parse_float \u001b[39mis\u001b[39;00m \u001b[39mNone\u001b[39;00m \u001b[39mand\u001b[39;00m\n\u001b[1;32m    <a href='file:///usr/lib/python3.9/json/__init__.py?line=344'>345</a>\u001b[0m         parse_constant \u001b[39mis\u001b[39;00m \u001b[39mNone\u001b[39;00m \u001b[39mand\u001b[39;00m object_pairs_hook \u001b[39mis\u001b[39;00m \u001b[39mNone\u001b[39;00m \u001b[39mand\u001b[39;00m \u001b[39mnot\u001b[39;00m kw):\n",
      "\u001b[0;31mTypeError\u001b[0m: the JSON object must be str, bytes or bytearray, not list"
     ]
    }
   ],
   "source": [
    "import json\n",
    "a = json.loads(['[1.0, 0.0, 0.0]', '0f80ff95bbe1ad57', '67f59b8cdc5aa298', '0a10d44c52d3f3bc', 'df48828685f9f0b0'])\n",
    "print(a)"
   ]
  },
  {
   "cell_type": "code",
   "execution_count": 15,
   "metadata": {},
   "outputs": [
    {
     "name": "stdout",
     "output_type": "stream",
     "text": [
      "Graph with 9 nodes and 36 edges\n"
     ]
    }
   ],
   "source": [
    "K = nx.complete_graph(9)\n",
    "\n",
    "print(K)"
   ]
  },
  {
   "cell_type": "code",
   "execution_count": 31,
   "metadata": {},
   "outputs": [
    {
     "name": "stdout",
     "output_type": "stream",
     "text": [
      "Graph with 37 nodes and 84 edges\n"
     ]
    }
   ],
   "source": [
    "mygraph = nx.read_graphml('/home/raphaeldegottardi/BachelorThesis/Enzymes/data/gr_0.graphml')\n",
    "print(mygraph)"
   ]
  },
  {
   "cell_type": "code",
   "execution_count": 30,
   "metadata": {},
   "outputs": [
    {
     "data": {
      "text/plain": [
       "{'0': ['25eea06de05c49ff6c0a7dcba4f96a6a',\n",
       "  'd60a256f4faab91404acf09d7c534b1e',\n",
       "  'f955e3346f37a54ab1229e0f21bd4aba'],\n",
       " '1': ['a6794283c4f983123eddc8c4d7f32b07',\n",
       "  'c596fc097313fa5cad4dd23ce89a701f',\n",
       "  '4ec80bdd3c9cc9e1d6e67ba3db1ebe17'],\n",
       " '2': ['9b8b08d5759d26cd5cf165ba62cb87e0',\n",
       "  '75242cb2e5b32a6bde746c743c91c817',\n",
       "  '219f29598f1150266d759c5ada5dac8b'],\n",
       " '3': ['8a42b4a89d8b490c15f96d9a3f43cce0',\n",
       "  '16f2a9e0a3b4fb3f20be7f969ab8d33b',\n",
       "  '80291d8ab20a3c5054c76c047eccf62a'],\n",
       " '4': ['5a1bf8e51732774f841a2118992ab34d',\n",
       "  '165a2e7a2233b6d0bddea635e7e608c6',\n",
       "  'fa583165ea22944054febeed4759d4b4'],\n",
       " '5': ['3eb1e2588f22f9f9f839c23ee093b860',\n",
       "  '65451a68082b60099ab55ed3c0d2644c',\n",
       "  '5fc5845d196bcd36e090012023118f85'],\n",
       " '6': ['26f16151d06f9a9a6fe840a58f4d81b3',\n",
       "  'fbe06586366b86ac81389b69f650f967',\n",
       "  '2c0b511d9bdcede1a07480cadd634475'],\n",
       " '7': ['74a3df2bc6dfbc18ffc3bd482f2cfdfc',\n",
       "  '4c802675afb5dc5f0740ff09ebb4faf2',\n",
       "  'ec307bf6af86108ebcb0424c99cd1a38'],\n",
       " '8': ['29b0239fb4824daaff3cc92df6dc8c4f',\n",
       "  'deb01b2dbcf6ebfae823bd2169217425',\n",
       "  '832d68aac420c004618b6e5f2f6d8107'],\n",
       " '9': ['74a3df2bc6dfbc18ffc3bd482f2cfdfc',\n",
       "  '68b41553b87990d13a4f5d317929431b',\n",
       "  'ebb551ba78d52cec893d82d5bf0a1758'],\n",
       " '10': ['d1a05003041b26f87a07beb77bc4afc0',\n",
       "  '186500630aabcef0c6b17658991328b5',\n",
       "  'c405ce299068490466659cbf99d5ab9e'],\n",
       " '11': ['d1a05003041b26f87a07beb77bc4afc0',\n",
       "  '5d1886ce107f0c527bf1a80d483aeebb',\n",
       "  '4abbb5f34b0a0e9f54e37c69a9af7bb2'],\n",
       " '12': ['990f7de1b10ca8c3fc413cf4d283ad49',\n",
       "  '8e089a24fe145070170e2316a108a1fd',\n",
       "  '1db63d744517f807f5b3a5102e46ca18'],\n",
       " '13': ['515a3d3098d8f4b122374f57dd960a19',\n",
       "  'c49dee92f4291b0702342d70ffe1e16c',\n",
       "  '12c0f14a4db41b273cf8ab8f97f8f060'],\n",
       " '14': ['515a3d3098d8f4b122374f57dd960a19',\n",
       "  'c49dee92f4291b0702342d70ffe1e16c',\n",
       "  '12c0f14a4db41b273cf8ab8f97f8f060'],\n",
       " '15': ['f1675c7828f405795e71b9f866b0d1e1',\n",
       "  'd8431488c09035c7b9a5fdc6306e6283',\n",
       "  '84f811309a1ce388b853aa57d3b25185'],\n",
       " '16': ['f1675c7828f405795e71b9f866b0d1e1',\n",
       "  'd8431488c09035c7b9a5fdc6306e6283',\n",
       "  '84f811309a1ce388b853aa57d3b25185'],\n",
       " '17': ['3c98e5f148669062a4425076d24aa2cb',\n",
       "  'f093e544e130c4103e0cfb3989c3685a',\n",
       "  '8ecc32e943a6ea96deb2502800d86ed8'],\n",
       " '18': ['b54999420f0b7455223e75f235529f87',\n",
       "  '8c18e3810ee2939b696fc5ec3958b0ff',\n",
       "  '1ee37d05753f7fcadeac1ea0d6be5cd2'],\n",
       " '19': ['b54999420f0b7455223e75f235529f87',\n",
       "  '8c18e3810ee2939b696fc5ec3958b0ff',\n",
       "  '1ee37d05753f7fcadeac1ea0d6be5cd2'],\n",
       " '20': ['8e4bc530d6019dcc784334af3905f6f1',\n",
       "  '1f048401430739ba989100750471cb30',\n",
       "  '6dceab2e5645bd5e1b468e8261a935f0'],\n",
       " '21': ['b7c0eafab16936213805a0cc100ef867',\n",
       "  'b821583c7abc5552106969992b375a19',\n",
       "  '1143c10ead1bec3a321c4409468b63c6'],\n",
       " '22': ['e3fcc37005a4017fdad8dcabffcba152',\n",
       "  '7473cc103c53eeed39a639849d7d9b96',\n",
       "  '2bac9e34d072db2227a1070c526630e7'],\n",
       " '23': ['b11c4118d76b70b1aac04ae07ad50873',\n",
       "  'be16c73c4ae3875467d750797b073280',\n",
       "  '6d0e23d0291db43de46c44da6641fa56'],\n",
       " '24': ['b02e2cfe55f3ccb31ca66030333b75f5',\n",
       "  '17ceb3735ebfb7e6ee718ae4852f1be1',\n",
       "  '7b5317037441999a5e338463b0399a03'],\n",
       " '25': ['b2bf8b71089aeaf7a9e1f75064b188c3',\n",
       "  'c011d115f37867c42cd6d5e9fd7feced',\n",
       "  '13cee1bc1a1f5f67320af3c1260d6d53'],\n",
       " '26': ['d30d5366925420f4c5d81c54c26e441b',\n",
       "  'c867ac35923b041aae9dccb74d580910',\n",
       "  'fc7d6b4dbd5fed691e409cb33081efcd'],\n",
       " '27': ['d30d5366925420f4c5d81c54c26e441b',\n",
       "  '38fbdfd2a624cf23d5482ff98714d0d4',\n",
       "  '23b9f8db3c9ed9e1948f9bed91f1a132'],\n",
       " '28': ['5487713c529b5ae7175c72515a15d235',\n",
       "  '8a788d9b66784747aaab0993a7038cb7',\n",
       "  'ce9485b7fe8b3b9e0d3267589f4424e4'],\n",
       " '29': ['d24b0ff1d494bdfff2e18c111a50c238',\n",
       "  '85bbaf5069e5b77c177871d6f1db1645',\n",
       "  '557805260b49245b73d8c6d779414dfe'],\n",
       " '30': ['c6f88fb0d35c695f93250a3b43979d49',\n",
       "  '444bc4690b848c296c6249b109f469cb',\n",
       "  '8670a7bd14f733615c4abfbc6c15d2eb'],\n",
       " '31': ['2aca54b2f5615144dfa12d35626fd881',\n",
       "  '444568c0cef4653ad17031410dc98828',\n",
       "  '3ba551df119c1ef7e898815766b2ed24'],\n",
       " '32': ['77c51c53328fee02c889d874e1704668',\n",
       "  '5c43f8ce01d3c13fd7ea38a9a81a7141',\n",
       "  '1ce398a3c66d09f48fc39bd86244966c'],\n",
       " '33': ['2e532d78521309e17bcd5d0f8d27b100',\n",
       "  '89a0b5096cb1df89a62db554416396c3',\n",
       "  'ffcfadd13a5681d726e1ff5bdfc6c672'],\n",
       " '34': ['acb93d85853c49e4e04c07d61472c2ed',\n",
       "  '06059a4a8b923d0c3146c6ad1208349d',\n",
       "  '2c7828d4a00574b4f679275c285d962a'],\n",
       " '35': ['4f86e6ded03a81797a11a5fbf3ab02c0',\n",
       "  'b99c4c9b66f3bd8d3ea1ceee0819758b',\n",
       "  'b155cf5e500e34ea5cbd65d123b053a7'],\n",
       " '36': ['77c51c53328fee02c889d874e1704668',\n",
       "  '5c43f8ce01d3c13fd7ea38a9a81a7141',\n",
       "  '1ce398a3c66d09f48fc39bd86244966c']}"
      ]
     },
     "execution_count": 30,
     "metadata": {},
     "output_type": "execute_result"
    }
   ],
   "source": [
    "nx.weisfeiler_lehman_subgraph_hashes(mygraph)"
   ]
  }
 ],
 "metadata": {
  "interpreter": {
   "hash": "874729d9695bb3d460837e5700234e323fdb72e734c404ef4302095460f1d2e4"
  },
  "kernelspec": {
   "display_name": "Python 3.9.12 ('.venv': venv)",
   "language": "python",
   "name": "python3"
  },
  "language_info": {
   "codemirror_mode": {
    "name": "ipython",
    "version": 3
   },
   "file_extension": ".py",
   "mimetype": "text/x-python",
   "name": "python",
   "nbconvert_exporter": "python",
   "pygments_lexer": "ipython3",
   "version": "3.9.12"
  },
  "orig_nbformat": 4
 },
 "nbformat": 4,
 "nbformat_minor": 2
}
